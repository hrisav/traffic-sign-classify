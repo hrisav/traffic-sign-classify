{
  "nbformat": 4,
  "nbformat_minor": 0,
  "metadata": {
    "colab": {
      "name": "Traffic Signal.ipynb",
      "provenance": [],
      "collapsed_sections": []
    },
    "kernelspec": {
      "name": "python3",
      "display_name": "Python 3"
    },
    "language_info": {
      "name": "python"
    },
    "accelerator": "GPU"
  },
  "cells": [
    {
      "cell_type": "markdown",
      "metadata": {
        "id": "Y49FGD_y_4D9"
      },
      "source": [
        "Upload kaggle.json and run below commands."
      ]
    },
    {
      "cell_type": "code",
      "metadata": {
        "id": "O28DEfk1-xgu"
      },
      "source": [
        "import zipfile\n",
        "import os\n",
        "\n",
        "os.environ['KAGGLE_CONFIG_DIR'] = \"/content\""
      ],
      "execution_count": 1,
      "outputs": []
    },
    {
      "cell_type": "code",
      "metadata": {
        "colab": {
          "base_uri": "https://localhost:8080/"
        },
        "id": "0JxfphEH_Ll0",
        "outputId": "cf2a0e1a-b96e-4466-9da7-5f591c9f3546"
      },
      "source": [
        "!kaggle datasets download -d meowmeowmeowmeowmeow/gtsrb-german-traffic-sign"
      ],
      "execution_count": 2,
      "outputs": [
        {
          "output_type": "stream",
          "text": [
            "Warning: Your Kaggle API key is readable by other users on this system! To fix this, you can run 'chmod 600 /content/kaggle.json'\n",
            "gtsrb-german-traffic-sign.zip: Skipping, found more recently modified local copy (use --force to force download)\n"
          ],
          "name": "stdout"
        }
      ]
    },
    {
      "cell_type": "code",
      "metadata": {
        "id": "5nFMvK8C_stm"
      },
      "source": [
        "zip_ref = zipfile.ZipFile('gtsrb-german-traffic-sign.zip', 'r')\n",
        "zip_ref.extractall('/content/data')\n",
        "zip_ref.close()"
      ],
      "execution_count": 3,
      "outputs": []
    },
    {
      "cell_type": "code",
      "metadata": {
        "colab": {
          "base_uri": "https://localhost:8080/"
        },
        "id": "DDFtLTOZAIIm",
        "outputId": "e1644de6-082f-4cc0-8b14-3475206913f1"
      },
      "source": [
        "len(os.listdir('/content/data/test/'))"
      ],
      "execution_count": 4,
      "outputs": [
        {
          "output_type": "execute_result",
          "data": {
            "text/plain": [
              "12631"
            ]
          },
          "metadata": {
            "tags": []
          },
          "execution_count": 4
        }
      ]
    },
    {
      "cell_type": "code",
      "metadata": {
        "id": "OZqr40DzAdY9"
      },
      "source": [
        "import pandas as pd\n",
        "import numpy as np\n",
        "import matplotlib.pyplot as plt\n",
        "import seaborn as sns\n",
        "plt.style.use('fivethirtyeight')\n",
        "\n",
        "import warnings\n",
        "warnings.filterwarnings('ignore')"
      ],
      "execution_count": 5,
      "outputs": []
    },
    {
      "cell_type": "code",
      "metadata": {
        "id": "ardWmJfEAewc"
      },
      "source": [
        "from PIL import Image\n",
        "import tensorflow as tf\n",
        "from sklearn.model_selection import train_test_split\n",
        "from keras.utils.np_utils import to_categorical\n",
        "from keras.models import Sequential, Model\n",
        "from keras.layers import Conv2D, MaxPool2D, Dense, Flatten, Dropout\n",
        "from sklearn.metrics import accuracy_score\n",
        "from keras.layers.normalization import BatchNormalization"
      ],
      "execution_count": 6,
      "outputs": []
    },
    {
      "cell_type": "code",
      "metadata": {
        "colab": {
          "base_uri": "https://localhost:8080/",
          "height": 36
        },
        "id": "zV2EXzZiFdT4",
        "outputId": "fefbbe80-3eb2-431b-d12e-12ac928223e3"
      },
      "source": [
        "tf.__version__"
      ],
      "execution_count": 7,
      "outputs": [
        {
          "output_type": "execute_result",
          "data": {
            "application/vnd.google.colaboratory.intrinsic+json": {
              "type": "string"
            },
            "text/plain": [
              "'2.5.0'"
            ]
          },
          "metadata": {
            "tags": []
          },
          "execution_count": 7
        }
      ]
    },
    {
      "cell_type": "markdown",
      "metadata": {
        "id": "qnervLwwBC-c"
      },
      "source": [
        "## Loading Images"
      ]
    },
    {
      "cell_type": "code",
      "metadata": {
        "colab": {
          "base_uri": "https://localhost:8080/"
        },
        "id": "sSe5uiB9a2Id",
        "outputId": "b0dfb02e-3665-410f-f32a-f8fa55af4442"
      },
      "source": [
        "train_path = '/content/data/train'\n",
        "\n",
        "img_data = []\n",
        "img_label = []\n",
        "classes = 43\n",
        "\n",
        "for i in range(classes):\n",
        "    img_path = os.path.join(train_path, str(i))             # append 0 to 42 to path\n",
        "    for img in os.listdir(img_path):                  # for every image in the path\n",
        "        im = Image.open(img_path + '/' + img)         # open image\n",
        "        im = im.resize((30,30))                       # resize it\n",
        "        im = np.array(im)                             # convert to array\n",
        "        img_data.append(im)\n",
        "        img_label.append(i)\n",
        "\n",
        "img_data = np.array(img_data)\n",
        "img_label = np.array(img_label)\n",
        "\n",
        "print('Image loading done..')"
      ],
      "execution_count": 8,
      "outputs": [
        {
          "output_type": "stream",
          "text": [
            "Image loading done..\n"
          ],
          "name": "stdout"
        }
      ]
    },
    {
      "cell_type": "code",
      "metadata": {
        "colab": {
          "base_uri": "https://localhost:8080/"
        },
        "id": "-nUhD-PjC54s",
        "outputId": "785ed7d2-86e2-4f80-ffac-9c3a699356d8"
      },
      "source": [
        "img_data.shape"
      ],
      "execution_count": 9,
      "outputs": [
        {
          "output_type": "execute_result",
          "data": {
            "text/plain": [
              "(39209, 30, 30, 3)"
            ]
          },
          "metadata": {
            "tags": []
          },
          "execution_count": 9
        }
      ]
    },
    {
      "cell_type": "code",
      "metadata": {
        "colab": {
          "base_uri": "https://localhost:8080/"
        },
        "id": "NC4szlbmEJcb",
        "outputId": "c6f577ca-e178-4301-9b51-27534fd42755"
      },
      "source": [
        "img_label.shape"
      ],
      "execution_count": 10,
      "outputs": [
        {
          "output_type": "execute_result",
          "data": {
            "text/plain": [
              "(39209,)"
            ]
          },
          "metadata": {
            "tags": []
          },
          "execution_count": 10
        }
      ]
    },
    {
      "cell_type": "code",
      "metadata": {
        "colab": {
          "base_uri": "https://localhost:8080/"
        },
        "id": "OZDwzf6wC9qN",
        "outputId": "be4d266e-c8ec-4a4a-b8a1-9f144df6fc6c"
      },
      "source": [
        "img_label"
      ],
      "execution_count": 11,
      "outputs": [
        {
          "output_type": "execute_result",
          "data": {
            "text/plain": [
              "array([ 0,  0,  0, ..., 42, 42, 42])"
            ]
          },
          "metadata": {
            "tags": []
          },
          "execution_count": 11
        }
      ]
    },
    {
      "cell_type": "code",
      "metadata": {
        "colab": {
          "base_uri": "https://localhost:8080/"
        },
        "id": "0o0V3MERDAxV",
        "outputId": "9a1bed27-958e-4421-92d8-2134e6c3dd9a"
      },
      "source": [
        "(unique, counts) = np.unique(img_label, return_counts=True)\n",
        "(unique, counts)"
      ],
      "execution_count": 12,
      "outputs": [
        {
          "output_type": "execute_result",
          "data": {
            "text/plain": [
              "(array([ 0,  1,  2,  3,  4,  5,  6,  7,  8,  9, 10, 11, 12, 13, 14, 15, 16,\n",
              "        17, 18, 19, 20, 21, 22, 23, 24, 25, 26, 27, 28, 29, 30, 31, 32, 33,\n",
              "        34, 35, 36, 37, 38, 39, 40, 41, 42]),\n",
              " array([ 210, 2220, 2250, 1410, 1980, 1860,  420, 1440, 1410, 1470, 2010,\n",
              "        1320, 2100, 2160,  780,  630,  420, 1110, 1200,  210,  360,  330,\n",
              "         390,  510,  270, 1500,  600,  240,  540,  270,  450,  780,  240,\n",
              "         689,  420, 1200,  390,  210, 2070,  300,  360,  240,  240]))"
            ]
          },
          "metadata": {
            "tags": []
          },
          "execution_count": 12
        }
      ]
    },
    {
      "cell_type": "code",
      "metadata": {
        "colab": {
          "base_uri": "https://localhost:8080/",
          "height": 300
        },
        "id": "Fu-Gg-QTA-XY",
        "outputId": "d8956256-7884-460f-c384-51fe80c16e26"
      },
      "source": [
        "print('Checking out sample image..')\n",
        "\n",
        "path = \"/content/data/train/1/00001_00000_00000.png\"\n",
        "img = Image.open(path)\n",
        "img = img.resize((30, 30))\n",
        "plt.imshow(img)\n",
        "plt.show()"
      ],
      "execution_count": 13,
      "outputs": [
        {
          "output_type": "stream",
          "text": [
            "Checking out sample image..\n"
          ],
          "name": "stdout"
        },
        {
          "output_type": "display_data",
          "data": {
            "image/png": "[encoded data removed]",
            "text/plain": [
              "<Figure size 432x288 with 1 Axes>"
            ]
          },
          "metadata": {
            "tags": []
          }
        }
      ]
    },
    {
      "cell_type": "code",
      "metadata": {
        "colab": {
          "base_uri": "https://localhost:8080/"
        },
        "id": "_q8ripnlCCq0",
        "outputId": "b7a8e729-55f6-4e64-be2f-645c83e41395"
      },
      "source": [
        "print('Checking image in array form..')\n",
        "\n",
        "sr = np.array(img)\n",
        "sr"
      ],
      "execution_count": 14,
      "outputs": [
        {
          "output_type": "stream",
          "text": [
            "Checking image in array form..\n"
          ],
          "name": "stdout"
        },
        {
          "output_type": "execute_result",
          "data": {
            "text/plain": [
              "array([[[182, 179, 182],\n",
              "        [183, 177, 179],\n",
              "        [185, 179, 179],\n",
              "        ...,\n",
              "        [149, 148, 150],\n",
              "        [151, 150, 151],\n",
              "        [156, 153, 154]],\n",
              "\n",
              "       [[185, 181, 184],\n",
              "        [175, 174, 176],\n",
              "        [158, 159, 157],\n",
              "        ...,\n",
              "        [150, 148, 147],\n",
              "        [150, 149, 148],\n",
              "        [151, 149, 149]],\n",
              "\n",
              "       [[182, 180, 182],\n",
              "        [174, 176, 177],\n",
              "        [154, 157, 156],\n",
              "        ...,\n",
              "        [163, 157, 158],\n",
              "        [161, 160, 161],\n",
              "        [159, 158, 158]],\n",
              "\n",
              "       ...,\n",
              "\n",
              "       [[166, 165, 169],\n",
              "        [152, 157, 159],\n",
              "        [150, 149, 146],\n",
              "        ...,\n",
              "        [149, 144, 142],\n",
              "        [151, 144, 145],\n",
              "        [152, 144, 146]],\n",
              "\n",
              "       [[169, 167, 171],\n",
              "        [154, 157, 158],\n",
              "        [146, 148, 147],\n",
              "        ...,\n",
              "        [152, 146, 147],\n",
              "        [150, 142, 142],\n",
              "        [153, 143, 145]],\n",
              "\n",
              "       [[167, 168, 171],\n",
              "        [148, 156, 159],\n",
              "        [141, 144, 145],\n",
              "        ...,\n",
              "        [148, 145, 147],\n",
              "        [147, 141, 141],\n",
              "        [153, 141, 142]]], dtype=uint8)"
            ]
          },
          "metadata": {
            "tags": []
          },
          "execution_count": 14
        }
      ]
    },
    {
      "cell_type": "code",
      "metadata": {
        "colab": {
          "base_uri": "https://localhost:8080/"
        },
        "id": "VChbdHoPCJdi",
        "outputId": "672cf2fa-9a47-4e4a-fe85-292707513039"
      },
      "source": [
        "sr.shape          # shape of each image"
      ],
      "execution_count": 15,
      "outputs": [
        {
          "output_type": "execute_result",
          "data": {
            "text/plain": [
              "(30, 30, 3)"
            ]
          },
          "metadata": {
            "tags": []
          },
          "execution_count": 15
        }
      ]
    },
    {
      "cell_type": "markdown",
      "metadata": {
        "id": "c_rfLgZED6yo"
      },
      "source": [
        "## Splitting dataset"
      ]
    },
    {
      "cell_type": "code",
      "metadata": {
        "colab": {
          "base_uri": "https://localhost:8080/"
        },
        "id": "xnepACzdCMhR",
        "outputId": "907fd92b-e1e7-4efe-9261-d0fede90158c"
      },
      "source": [
        "X_train, X_test, y_train, y_test = train_test_split(img_data, img_label, test_size=0.2, random_state=20)\n",
        "\n",
        "print(\"Training shape: \", X_train.shape, y_train.shape)\n",
        "print(\"Testing shape: \", X_test.shape, y_test.shape)"
      ],
      "execution_count": 16,
      "outputs": [
        {
          "output_type": "stream",
          "text": [
            "Training shape:  (31367, 30, 30, 3) (31367,)\n",
            "Testing shape:  (7842, 30, 30, 3) (7842,)\n"
          ],
          "name": "stdout"
        }
      ]
    },
    {
      "cell_type": "code",
      "metadata": {
        "colab": {
          "base_uri": "https://localhost:8080/"
        },
        "id": "zZeRQoDBGQX3",
        "outputId": "76f848b9-4c32-4578-e393-d848011efb38"
      },
      "source": [
        "y_train[1]"
      ],
      "execution_count": 17,
      "outputs": [
        {
          "output_type": "execute_result",
          "data": {
            "text/plain": [
              "2"
            ]
          },
          "metadata": {
            "tags": []
          },
          "execution_count": 17
        }
      ]
    },
    {
      "cell_type": "code",
      "metadata": {
        "id": "dZ-ZtnfPEwtH"
      },
      "source": [
        "y_train_cat = to_categorical(y_train, 43)\n",
        "y_test_cat = to_categorical(y_test, 43)"
      ],
      "execution_count": 18,
      "outputs": []
    },
    {
      "cell_type": "code",
      "metadata": {
        "colab": {
          "base_uri": "https://localhost:8080/"
        },
        "id": "yI-UuH2VGNDD",
        "outputId": "48a7ad88-8469-40e5-94c1-5911cc797bbf"
      },
      "source": [
        "y_train_cat[1]"
      ],
      "execution_count": 19,
      "outputs": [
        {
          "output_type": "execute_result",
          "data": {
            "text/plain": [
              "array([0., 0., 1., 0., 0., 0., 0., 0., 0., 0., 0., 0., 0., 0., 0., 0., 0.,\n",
              "       0., 0., 0., 0., 0., 0., 0., 0., 0., 0., 0., 0., 0., 0., 0., 0., 0.,\n",
              "       0., 0., 0., 0., 0., 0., 0., 0., 0.], dtype=float32)"
            ]
          },
          "metadata": {
            "tags": []
          },
          "execution_count": 19
        }
      ]
    },
    {
      "cell_type": "markdown",
      "metadata": {
        "id": "jg4xNYlcGcvc"
      },
      "source": [
        "## CNN Model Building"
      ]
    },
    {
      "cell_type": "markdown",
      "metadata": {
        "id": "VqgU-8mQXUYf"
      },
      "source": [
        "Conv2D - 2D Convolution Layer\n",
        "\n",
        "MaxPool2D – Maximum pooling layer is used to reduce the size of images\n",
        "\n",
        "Dropout – Dropout is a regularization technique to reduce overfitting\n",
        "\n",
        "Flatten – converts the data into a 1D array \n",
        "\n",
        "Dense –  for feed-forward neural network"
      ]
    },
    {
      "cell_type": "code",
      "metadata": {
        "id": "BsW2KXQwGXa8"
      },
      "source": [
        "model = Sequential()\n",
        "\n",
        "model.add(Conv2D(filters=32, kernel_size=(5,5), strides=(1, 1), activation='relu', padding = 'same', input_shape=X_train.shape[1:]))\n",
        "model.add(BatchNormalization())\n",
        "model.add(Conv2D(filters=32, kernel_size=(5,5), activation='relu', padding = 'same', kernel_initializer = 'he_uniform'))\n",
        "model.add(BatchNormalization())\n",
        "model.add(MaxPool2D(pool_size=(2, 2)))\n",
        "model.add(Dropout(rate=0.2))\n",
        "\n",
        "model.add(Conv2D(filters=64, kernel_size=(3, 3), activation='relu', padding = 'same', kernel_initializer = 'he_uniform'))\n",
        "model.add(BatchNormalization())\n",
        "model.add(Conv2D(filters=64, kernel_size=(3, 3), activation='relu', padding = 'same', kernel_initializer = 'he_uniform'))\n",
        "model.add(BatchNormalization())\n",
        "model.add(MaxPool2D(pool_size=(2, 2)))\n",
        "model.add(Dropout(rate=0.2))\n",
        "\n",
        "model.add(Flatten())\n",
        "model.add(Dense(512, activation='relu', kernel_initializer = 'he_uniform'))\n",
        "model.add(Dropout(rate=0.5))\n",
        "model.add(Dense(classes, activation='softmax'))"
      ],
      "execution_count": 20,
      "outputs": []
    },
    {
      "cell_type": "code",
      "metadata": {
        "colab": {
          "base_uri": "https://localhost:8080/"
        },
        "id": "ILVwfNsnYh95",
        "outputId": "dd53d793-e6ad-41ca-d57f-d0eded25d8ba"
      },
      "source": [
        "model.summary()"
      ],
      "execution_count": 21,
      "outputs": [
        {
          "output_type": "stream",
          "text": [
            "Model: \"sequential\"\n",
            "_________________________________________________________________\n",
            "Layer (type)                 Output Shape              Param #   \n",
            "=================================================================\n",
            "conv2d (Conv2D)              (None, 30, 30, 32)        2432      \n",
            "_________________________________________________________________\n",
            "batch_normalization (BatchNo (None, 30, 30, 32)        128       \n",
            "_________________________________________________________________\n",
            "conv2d_1 (Conv2D)            (None, 30, 30, 32)        25632     \n",
            "_________________________________________________________________\n",
            "batch_normalization_1 (Batch (None, 30, 30, 32)        128       \n",
            "_________________________________________________________________\n",
            "max_pooling2d (MaxPooling2D) (None, 15, 15, 32)        0         \n",
            "_________________________________________________________________\n",
            "dropout (Dropout)            (None, 15, 15, 32)        0         \n",
            "_________________________________________________________________\n",
            "conv2d_2 (Conv2D)            (None, 15, 15, 64)        18496     \n",
            "_________________________________________________________________\n",
            "batch_normalization_2 (Batch (None, 15, 15, 64)        256       \n",
            "_________________________________________________________________\n",
            "conv2d_3 (Conv2D)            (None, 15, 15, 64)        36928     \n",
            "_________________________________________________________________\n",
            "batch_normalization_3 (Batch (None, 15, 15, 64)        256       \n",
            "_________________________________________________________________\n",
            "max_pooling2d_1 (MaxPooling2 (None, 7, 7, 64)          0         \n",
            "_________________________________________________________________\n",
            "dropout_1 (Dropout)          (None, 7, 7, 64)          0         \n",
            "_________________________________________________________________\n",
            "flatten (Flatten)            (None, 3136)              0         \n",
            "_________________________________________________________________\n",
            "dense (Dense)                (None, 512)               1606144   \n",
            "_________________________________________________________________\n",
            "dropout_2 (Dropout)          (None, 512)               0         \n",
            "_________________________________________________________________\n",
            "dense_1 (Dense)              (None, 43)                22059     \n",
            "=================================================================\n",
            "Total params: 1,712,459\n",
            "Trainable params: 1,712,075\n",
            "Non-trainable params: 384\n",
            "_________________________________________________________________\n"
          ],
          "name": "stdout"
        }
      ]
    },
    {
      "cell_type": "code",
      "metadata": {
        "id": "1TheSu_6WgUy"
      },
      "source": [
        "# training the model \n",
        "# using categorical_crossentropy as multiclass, if binary then use binary_crossentropy\n",
        "\n",
        "model.compile(loss = 'categorical_crossentropy', optimizer ='adam', metrics =['accuracy'])"
      ],
      "execution_count": 22,
      "outputs": []
    },
    {
      "cell_type": "code",
      "metadata": {
        "colab": {
          "base_uri": "https://localhost:8080/"
        },
        "id": "i5P_Lce5W6kJ",
        "outputId": "40e24a93-0594-4d7e-ba5b-29ef6221224b"
      },
      "source": [
        "epochs = 12\n",
        "batch_size = 64\n",
        "\n",
        "history = model.fit(X_train, y_train_cat, epochs=epochs, batch_size=batch_size, validation_data=(X_test, y_test_cat))"
      ],
      "execution_count": 23,
      "outputs": [
        {
          "output_type": "stream",
          "text": [
            "Epoch 1/12\n",
            "491/491 [==============================] - 23s 12ms/step - loss: 2.3128 - accuracy: 0.4520 - val_loss: 0.1620 - val_accuracy: 0.9503\n",
            "Epoch 2/12\n",
            "491/491 [==============================] - 5s 10ms/step - loss: 0.2592 - accuracy: 0.9167 - val_loss: 0.0425 - val_accuracy: 0.9864\n",
            "Epoch 3/12\n",
            "491/491 [==============================] - 5s 10ms/step - loss: 0.0952 - accuracy: 0.9705 - val_loss: 0.0474 - val_accuracy: 0.9858\n",
            "Epoch 4/12\n",
            "491/491 [==============================] - 5s 10ms/step - loss: 0.0694 - accuracy: 0.9777 - val_loss: 0.0344 - val_accuracy: 0.9897\n",
            "Epoch 5/12\n",
            "491/491 [==============================] - 5s 10ms/step - loss: 0.1036 - accuracy: 0.9696 - val_loss: 0.0260 - val_accuracy: 0.9920\n",
            "Epoch 6/12\n",
            "491/491 [==============================] - 5s 10ms/step - loss: 0.0503 - accuracy: 0.9847 - val_loss: 0.0188 - val_accuracy: 0.9952\n",
            "Epoch 7/12\n",
            "491/491 [==============================] - 5s 10ms/step - loss: 0.0453 - accuracy: 0.9868 - val_loss: 0.0236 - val_accuracy: 0.9941\n",
            "Epoch 8/12\n",
            "491/491 [==============================] - 5s 10ms/step - loss: 0.0515 - accuracy: 0.9851 - val_loss: 0.0289 - val_accuracy: 0.9925\n",
            "Epoch 9/12\n",
            "491/491 [==============================] - 5s 10ms/step - loss: 0.0465 - accuracy: 0.9863 - val_loss: 0.0185 - val_accuracy: 0.9949\n",
            "Epoch 10/12\n",
            "491/491 [==============================] - 5s 10ms/step - loss: 0.0342 - accuracy: 0.9901 - val_loss: 0.0157 - val_accuracy: 0.9952\n",
            "Epoch 11/12\n",
            "491/491 [==============================] - 5s 10ms/step - loss: 0.0301 - accuracy: 0.9912 - val_loss: 0.0173 - val_accuracy: 0.9950\n",
            "Epoch 12/12\n",
            "491/491 [==============================] - 5s 10ms/step - loss: 0.0280 - accuracy: 0.9923 - val_loss: 0.0185 - val_accuracy: 0.9959\n"
          ],
          "name": "stdout"
        }
      ]
    },
    {
      "cell_type": "code",
      "metadata": {
        "colab": {
          "base_uri": "https://localhost:8080/",
          "height": 343
        },
        "id": "CH7qlLWgYC6c",
        "outputId": "bcc6c4e2-c61a-4a79-ef44-5cb99871e243"
      },
      "source": [
        "plt.plot(history.history['accuracy'], label=\"Training Accuracy\")\n",
        "plt.plot(history.history['val_accuracy'], label=\"Validation Accuracy\")\n",
        "plt.title(\"Accuracy\")\n",
        "plt.xlabel(\"Epochs\")\n",
        "plt.ylabel(\"Accuracy\")\n",
        "plt.legend()"
      ],
      "execution_count": 24,
      "outputs": [
        {
          "output_type": "execute_result",
          "data": {
            "text/plain": [
              "<matplotlib.legend.Legend at 0x7fcd52ff75d0>"
            ]
          },
          "metadata": {
            "tags": []
          },
          "execution_count": 24
        },
        {
          "output_type": "display_data",
          "data": {
            "image/png": "[encoded data removed]",
            "text/plain": [
              "<Figure size 432x288 with 1 Axes>"
            ]
          },
          "metadata": {
            "tags": []
          }
        }
      ]
    },
    {
      "cell_type": "code",
      "metadata": {
        "colab": {
          "base_uri": "https://localhost:8080/",
          "height": 343
        },
        "id": "uFcuS4DdZMel",
        "outputId": "f6fada58-6db0-4c09-dfd0-259601aff00f"
      },
      "source": [
        "plt.plot(history.history['loss'], label=\"Training Loss\")\n",
        "plt.plot(history.history['val_loss'], label=\"Validation Loss\")\n",
        "plt.title(\"Loss\")\n",
        "plt.xlabel(\"Epochs\")\n",
        "plt.ylabel(\"Loss\")\n",
        "plt.legend()"
      ],
      "execution_count": 25,
      "outputs": [
        {
          "output_type": "execute_result",
          "data": {
            "text/plain": [
              "<matplotlib.legend.Legend at 0x7fcda0064a90>"
            ]
          },
          "metadata": {
            "tags": []
          },
          "execution_count": 25
        },
        {
          "output_type": "display_data",
          "data": {
            "image/png": "[encoded data removed]",
            "text/plain": [
              "<Figure size 432x288 with 1 Axes>"
            ]
          },
          "metadata": {
            "tags": []
          }
        }
      ]
    },
    {
      "cell_type": "markdown",
      "metadata": {
        "id": "Ip97VV4qZnhm"
      },
      "source": [
        "### Checking on Test Data"
      ]
    },
    {
      "cell_type": "markdown",
      "metadata": {
        "id": "Zsh68hAtnp4O"
      },
      "source": [
        "**First way of prediction using predict_classes.**"
      ]
    },
    {
      "cell_type": "code",
      "metadata": {
        "colab": {
          "base_uri": "https://localhost:8080/"
        },
        "id": "AhIxPQ5YZYUP",
        "outputId": "47123dd1-7d70-49e1-cfca-442996921585"
      },
      "source": [
        "test = pd.read_csv('/content/data/Test.csv')\n",
        "\n",
        "test_set_label = test['ClassId'].values\n",
        "\n",
        "test_path = '/content/data'\n",
        "test_imgs = test['Path'].values\n",
        "\n",
        "test_data = []\n",
        "\n",
        "for img in test_imgs:\n",
        "    im = Image.open(test_path + '/' + img)\n",
        "    im = im.resize((30,30))\n",
        "    im = np.array(im)\n",
        "    test_data.append(im)\n",
        "\n",
        "test_data_new = np.array(test_data)\n",
        "test_set_pred = model.predict_classes(test_data_new)\n",
        "\n",
        "print('Accuracy: ', round(accuracy_score(test_set_label, test_set_pred)*100, 2))"
      ],
      "execution_count": 26,
      "outputs": [
        {
          "output_type": "stream",
          "text": [
            "Accuracy:  97.11\n"
          ],
          "name": "stdout"
        }
      ]
    },
    {
      "cell_type": "code",
      "metadata": {
        "colab": {
          "base_uri": "https://localhost:8080/"
        },
        "id": "aFCX_qGkc8OE",
        "outputId": "58676179-e63d-461e-db7e-c0ae1fb68641"
      },
      "source": [
        "test_data_new.shape, test_set_pred.shape, test_set_label.shape"
      ],
      "execution_count": 27,
      "outputs": [
        {
          "output_type": "execute_result",
          "data": {
            "text/plain": [
              "((12630, 30, 30, 3), (12630,), (12630,))"
            ]
          },
          "metadata": {
            "tags": []
          },
          "execution_count": 27
        }
      ]
    },
    {
      "cell_type": "code",
      "metadata": {
        "colab": {
          "base_uri": "https://localhost:8080/"
        },
        "id": "ToqB69FYbXDB",
        "outputId": "7a5bbdf5-5700-42a4-dd32-50fcd0e309c3"
      },
      "source": [
        "test_set_label[0:15]"
      ],
      "execution_count": 28,
      "outputs": [
        {
          "output_type": "execute_result",
          "data": {
            "text/plain": [
              "array([16,  1, 38, 33, 11, 38, 18, 12, 25, 35, 12,  7, 23,  7,  4])"
            ]
          },
          "metadata": {
            "tags": []
          },
          "execution_count": 28
        }
      ]
    },
    {
      "cell_type": "code",
      "metadata": {
        "colab": {
          "base_uri": "https://localhost:8080/"
        },
        "id": "JxwzI_ZrbZ6o",
        "outputId": "3939cb52-0a33-4e97-c721-78badb262340"
      },
      "source": [
        "test_set_pred[0:15]"
      ],
      "execution_count": 29,
      "outputs": [
        {
          "output_type": "execute_result",
          "data": {
            "text/plain": [
              "array([16,  1, 38, 33, 11, 38, 18, 12, 25, 35, 12,  7, 23,  7,  4])"
            ]
          },
          "metadata": {
            "tags": []
          },
          "execution_count": 29
        }
      ]
    },
    {
      "cell_type": "markdown",
      "metadata": {
        "id": "bNbsJ-4LnyUw"
      },
      "source": [
        "**Second way of prediction using predict and then argmax.**"
      ]
    },
    {
      "cell_type": "code",
      "metadata": {
        "id": "rW59g_x1tFZx"
      },
      "source": [
        "test = pd.read_csv('/content/data/Test.csv')\n",
        "\n",
        "test_set_label = test['ClassId'].values\n",
        "\n",
        "test_path = '/content/data'\n",
        "test_imgs = test['Path'].values\n",
        "\n",
        "test_data = []\n",
        "\n",
        "for img in test_imgs:\n",
        "    im = Image.open(test_path + '/' + img)\n",
        "    im = im.resize((30,30))\n",
        "    im = np.array(im)\n",
        "    test_data.append(im)\n",
        "\n",
        "test_data_new = np.array(test_data)\n",
        "test_set_pred = model.predict(test_data_new)"
      ],
      "execution_count": 30,
      "outputs": []
    },
    {
      "cell_type": "code",
      "metadata": {
        "colab": {
          "base_uri": "https://localhost:8080/"
        },
        "id": "f3YT_h6etMpA",
        "outputId": "5cc1d307-9105-4d2a-f219-972a02cf0ba2"
      },
      "source": [
        "test_set_pred[0]             # probability values of 43 classes of 1st image"
      ],
      "execution_count": 31,
      "outputs": [
        {
          "output_type": "execute_result",
          "data": {
            "text/plain": [
              "array([8.04347115e-32, 9.76670780e-24, 1.83097466e-27, 8.19742522e-24,\n",
              "       9.58353802e-32, 6.68760346e-18, 5.25533219e-25, 3.26859657e-22,\n",
              "       4.85030434e-28, 1.10754534e-15, 2.38113812e-26, 1.01436666e-20,\n",
              "       2.28361707e-21, 1.48212587e-32, 3.08216801e-30, 1.51213937e-21,\n",
              "       1.00000000e+00, 7.87571591e-33, 4.19167282e-26, 7.18466409e-26,\n",
              "       1.05132910e-25, 3.46552258e-36, 6.36401334e-36, 7.06246461e-26,\n",
              "       1.77405183e-28, 1.64247429e-31, 1.01538457e-28, 4.34989980e-32,\n",
              "       4.21598625e-25, 9.16882765e-29, 5.97369687e-28, 1.19651484e-37,\n",
              "       2.17584192e-31, 1.19552888e-23, 1.40274366e-27, 4.55906637e-20,\n",
              "       2.90054491e-24, 1.24453339e-24, 2.10174845e-33, 4.90906753e-29,\n",
              "       6.58232109e-16, 7.96937815e-24, 5.98553836e-27], dtype=float32)"
            ]
          },
          "metadata": {
            "tags": []
          },
          "execution_count": 31
        }
      ]
    },
    {
      "cell_type": "code",
      "metadata": {
        "id": "zYmKsl05tUdH"
      },
      "source": [
        "test_set_pred = np.argmax(test_set_pred, axis=1)"
      ],
      "execution_count": 32,
      "outputs": []
    },
    {
      "cell_type": "code",
      "metadata": {
        "colab": {
          "base_uri": "https://localhost:8080/"
        },
        "id": "1WV8XcxztV--",
        "outputId": "030a0ca3-6792-46e7-f467-14f8be345fc3"
      },
      "source": [
        "test_set_pred[0]"
      ],
      "execution_count": 33,
      "outputs": [
        {
          "output_type": "execute_result",
          "data": {
            "text/plain": [
              "16"
            ]
          },
          "metadata": {
            "tags": []
          },
          "execution_count": 33
        }
      ]
    },
    {
      "cell_type": "code",
      "metadata": {
        "colab": {
          "base_uri": "https://localhost:8080/"
        },
        "id": "8QQ9dvoFtaW7",
        "outputId": "9c593db3-8c1d-4f56-d42c-ef874c22380c"
      },
      "source": [
        "print('Accuracy: ', round(accuracy_score(test_set_label, test_set_pred)*100, 2))"
      ],
      "execution_count": 34,
      "outputs": [
        {
          "output_type": "stream",
          "text": [
            "Accuracy:  97.11\n"
          ],
          "name": "stdout"
        }
      ]
    },
    {
      "cell_type": "markdown",
      "metadata": {
        "id": "oBSCcJTyp9cV"
      },
      "source": [
        "### Checking a Test Case"
      ]
    },
    {
      "cell_type": "code",
      "metadata": {
        "colab": {
          "base_uri": "https://localhost:8080/",
          "height": 204
        },
        "id": "GIjoaUvapG8g",
        "outputId": "6eae3468-4404-4961-eab5-737d7effa6d7"
      },
      "source": [
        "test = pd.read_csv('/content/data/Test.csv')\n",
        "test.head()"
      ],
      "execution_count": 35,
      "outputs": [
        {
          "output_type": "execute_result",
          "data": {
            "text/html": [
              "<div>\n",
              "<style scoped>\n",
              "    .dataframe tbody tr th:only-of-type {\n",
              "        vertical-align: middle;\n",
              "    }\n",
              "\n",
              "    .dataframe tbody tr th {\n",
              "        vertical-align: top;\n",
              "    }\n",
              "\n",
              "    .dataframe thead th {\n",
              "        text-align: right;\n",
              "    }\n",
              "</style>\n",
              "<table border=\"1\" class=\"dataframe\">\n",
              "  <thead>\n",
              "    <tr style=\"text-align: right;\">\n",
              "      <th></th>\n",
              "      <th>Width</th>\n",
              "      <th>Height</th>\n",
              "      <th>Roi.X1</th>\n",
              "      <th>Roi.Y1</th>\n",
              "      <th>Roi.X2</th>\n",
              "      <th>Roi.Y2</th>\n",
              "      <th>ClassId</th>\n",
              "      <th>Path</th>\n",
              "    </tr>\n",
              "  </thead>\n",
              "  <tbody>\n",
              "    <tr>\n",
              "      <th>0</th>\n",
              "      <td>53</td>\n",
              "      <td>54</td>\n",
              "      <td>6</td>\n",
              "      <td>5</td>\n",
              "      <td>48</td>\n",
              "      <td>49</td>\n",
              "      <td>16</td>\n",
              "      <td>Test/00000.png</td>\n",
              "    </tr>\n",
              "    <tr>\n",
              "      <th>1</th>\n",
              "      <td>42</td>\n",
              "      <td>45</td>\n",
              "      <td>5</td>\n",
              "      <td>5</td>\n",
              "      <td>36</td>\n",
              "      <td>40</td>\n",
              "      <td>1</td>\n",
              "      <td>Test/00001.png</td>\n",
              "    </tr>\n",
              "    <tr>\n",
              "      <th>2</th>\n",
              "      <td>48</td>\n",
              "      <td>52</td>\n",
              "      <td>6</td>\n",
              "      <td>6</td>\n",
              "      <td>43</td>\n",
              "      <td>47</td>\n",
              "      <td>38</td>\n",
              "      <td>Test/00002.png</td>\n",
              "    </tr>\n",
              "    <tr>\n",
              "      <th>3</th>\n",
              "      <td>27</td>\n",
              "      <td>29</td>\n",
              "      <td>5</td>\n",
              "      <td>5</td>\n",
              "      <td>22</td>\n",
              "      <td>24</td>\n",
              "      <td>33</td>\n",
              "      <td>Test/00003.png</td>\n",
              "    </tr>\n",
              "    <tr>\n",
              "      <th>4</th>\n",
              "      <td>60</td>\n",
              "      <td>57</td>\n",
              "      <td>5</td>\n",
              "      <td>5</td>\n",
              "      <td>55</td>\n",
              "      <td>52</td>\n",
              "      <td>11</td>\n",
              "      <td>Test/00004.png</td>\n",
              "    </tr>\n",
              "  </tbody>\n",
              "</table>\n",
              "</div>"
            ],
            "text/plain": [
              "   Width  Height  Roi.X1  Roi.Y1  Roi.X2  Roi.Y2  ClassId            Path\n",
              "0     53      54       6       5      48      49       16  Test/00000.png\n",
              "1     42      45       5       5      36      40        1  Test/00001.png\n",
              "2     48      52       6       6      43      47       38  Test/00002.png\n",
              "3     27      29       5       5      22      24       33  Test/00003.png\n",
              "4     60      57       5       5      55      52       11  Test/00004.png"
            ]
          },
          "metadata": {
            "tags": []
          },
          "execution_count": 35
        }
      ]
    },
    {
      "cell_type": "code",
      "metadata": {
        "colab": {
          "base_uri": "https://localhost:8080/",
          "height": 300
        },
        "id": "ORzBoS3spyBH",
        "outputId": "4d7be9aa-5ea7-4b01-d911-556e605860ff"
      },
      "source": [
        "print('Testing out sample image..')\n",
        "\n",
        "path = \"/content/data/test/00001.png\"\n",
        "img = Image.open(path)\n",
        "img = img.resize((30, 30))\n",
        "plt.imshow(img)\n",
        "plt.show()"
      ],
      "execution_count": 36,
      "outputs": [
        {
          "output_type": "stream",
          "text": [
            "Testing out sample image..\n"
          ],
          "name": "stdout"
        },
        {
          "output_type": "display_data",
          "data": {
            "image/png": "[encoded data removed]",
            "text/plain": [
              "<Figure size 432x288 with 1 Axes>"
            ]
          },
          "metadata": {
            "tags": []
          }
        }
      ]
    },
    {
      "cell_type": "code",
      "metadata": {
        "id": "e8bIk_m5oENs"
      },
      "source": [
        "img_array = np.array(img)\n",
        "img_array = img_array.reshape(-1,30,30,3)\n",
        "pred = model.predict_classes(img_array)"
      ],
      "execution_count": 37,
      "outputs": []
    },
    {
      "cell_type": "code",
      "metadata": {
        "id": "GtZWNMyCp3lp"
      },
      "source": [
        "classes = { 0:'Speed limit (20km/h)',\n",
        "            1:'Speed limit (30km/h)', \n",
        "            2:'Speed limit (50km/h)', \n",
        "            3:'Speed limit (60km/h)', \n",
        "            4:'Speed limit (70km/h)', \n",
        "            5:'Speed limit (80km/h)', \n",
        "            6:'End of speed limit (80km/h)', \n",
        "            7:'Speed limit (100km/h)', \n",
        "            8:'Speed limit (120km/h)', \n",
        "            9:'No passing', \n",
        "            10:'No passing veh over 3.5 tons', \n",
        "            11:'Right-of-way at intersection', \n",
        "            12:'Priority road', \n",
        "            13:'Yield', \n",
        "            14:'Stop', \n",
        "            15:'No vehicles', \n",
        "            16:'Veh > 3.5 tons prohibited', \n",
        "            17:'No entry', \n",
        "            18:'General caution', \n",
        "            19:'Dangerous curve left', \n",
        "            20:'Dangerous curve right', \n",
        "            21:'Double curve', \n",
        "            22:'Bumpy road', \n",
        "            23:'Slippery road', \n",
        "            24:'Road narrows on the right', \n",
        "            25:'Road work', \n",
        "            26:'Traffic signals', \n",
        "            27:'Pedestrians', \n",
        "            28:'Children crossing', \n",
        "            29:'Bicycles crossing', \n",
        "            30:'Beware of ice/snow',\n",
        "            31:'Wild animals crossing', \n",
        "            32:'End speed + passing limits', \n",
        "            33:'Turn right ahead', \n",
        "            34:'Turn left ahead', \n",
        "            35:'Ahead only', \n",
        "            36:'Go straight or right', \n",
        "            37:'Go straight or left', \n",
        "            38:'Keep right', \n",
        "            39:'Keep left', \n",
        "            40:'Roundabout mandatory', \n",
        "            41:'End of no passing', \n",
        "            42:'End no passing veh > 3.5 tons' }"
      ],
      "execution_count": 38,
      "outputs": []
    },
    {
      "cell_type": "code",
      "metadata": {
        "colab": {
          "base_uri": "https://localhost:8080/"
        },
        "id": "tFebh8MLpWmY",
        "outputId": "575b7d72-d4cb-4ceb-a0d3-5aac14ac9426"
      },
      "source": [
        "given_class = test.iloc[1]['ClassId']     # taking the 2nd row's class\n",
        "pred_class = pred[0]                      # taking the predicted value\n",
        "\n",
        "print('Given signal is: ', classes[given_class])\n",
        "print('Predicted signal is: ', classes[pred_class])\n",
        "print()\n",
        "\n",
        "if(given_class == pred_class):\n",
        "    print('Model predicted correctly!')\n",
        "else:\n",
        "    print('Bad job by Model!')"
      ],
      "execution_count": 39,
      "outputs": [
        {
          "output_type": "stream",
          "text": [
            "Given signal is:  Speed limit (30km/h)\n",
            "Predicted signal is:  Speed limit (30km/h)\n",
            "\n",
            "Model predicted correctly!\n"
          ],
          "name": "stdout"
        }
      ]
    },
    {
      "cell_type": "markdown",
      "metadata": {
        "id": "haJIBkRkthtk"
      },
      "source": [
        "**Saving the model..**"
      ]
    },
    {
      "cell_type": "code",
      "metadata": {
        "id": "02tFT53hbbqM"
      },
      "source": [
        "model.save('traffic_model.h5')"
      ],
      "execution_count": 40,
      "outputs": []
    },
    {
      "cell_type": "markdown",
      "metadata": {
        "id": "1ffUqLN36PHf"
      },
      "source": [
        "## CNN + Random Forest"
      ]
    },
    {
      "cell_type": "code",
      "metadata": {
        "id": "A149V8aN9J4v"
      },
      "source": [
        "model = Sequential()\n",
        "\n",
        "model.add(Conv2D(filters=32, kernel_size=(5,5), strides=(1, 1), activation='relu', padding = 'same', input_shape=X_train.shape[1:]))\n",
        "model.add(BatchNormalization())\n",
        "model.add(Conv2D(filters=32, kernel_size=(5,5), activation='relu', padding = 'same', kernel_initializer = 'he_uniform'))\n",
        "model.add(BatchNormalization())\n",
        "model.add(MaxPool2D(pool_size=(2, 2)))\n",
        "model.add(Dropout(rate=0.2))\n",
        "\n",
        "model.add(Conv2D(filters=64, kernel_size=(3, 3), activation='relu', padding = 'same', kernel_initializer = 'he_uniform'))\n",
        "model.add(BatchNormalization())\n",
        "model.add(Conv2D(filters=64, kernel_size=(3, 3), activation='relu', padding = 'same', kernel_initializer = 'he_uniform'))\n",
        "model.add(BatchNormalization())\n",
        "model.add(MaxPool2D(pool_size=(2, 2)))\n",
        "model.add(Dropout(rate=0.2))\n",
        "\n",
        "model.add(Flatten())"
      ],
      "execution_count": 41,
      "outputs": []
    },
    {
      "cell_type": "code",
      "metadata": {
        "colab": {
          "base_uri": "https://localhost:8080/"
        },
        "id": "AtewyAiSDj1H",
        "outputId": "cefcac24-18bf-4205-a689-ab3793dd7351"
      },
      "source": [
        "model.summary()"
      ],
      "execution_count": 42,
      "outputs": [
        {
          "output_type": "stream",
          "text": [
            "Model: \"sequential_1\"\n",
            "_________________________________________________________________\n",
            "Layer (type)                 Output Shape              Param #   \n",
            "=================================================================\n",
            "conv2d_4 (Conv2D)            (None, 30, 30, 32)        2432      \n",
            "_________________________________________________________________\n",
            "batch_normalization_4 (Batch (None, 30, 30, 32)        128       \n",
            "_________________________________________________________________\n",
            "conv2d_5 (Conv2D)            (None, 30, 30, 32)        25632     \n",
            "_________________________________________________________________\n",
            "batch_normalization_5 (Batch (None, 30, 30, 32)        128       \n",
            "_________________________________________________________________\n",
            "max_pooling2d_2 (MaxPooling2 (None, 15, 15, 32)        0         \n",
            "_________________________________________________________________\n",
            "dropout_3 (Dropout)          (None, 15, 15, 32)        0         \n",
            "_________________________________________________________________\n",
            "conv2d_6 (Conv2D)            (None, 15, 15, 64)        18496     \n",
            "_________________________________________________________________\n",
            "batch_normalization_6 (Batch (None, 15, 15, 64)        256       \n",
            "_________________________________________________________________\n",
            "conv2d_7 (Conv2D)            (None, 15, 15, 64)        36928     \n",
            "_________________________________________________________________\n",
            "batch_normalization_7 (Batch (None, 15, 15, 64)        256       \n",
            "_________________________________________________________________\n",
            "max_pooling2d_3 (MaxPooling2 (None, 7, 7, 64)          0         \n",
            "_________________________________________________________________\n",
            "dropout_4 (Dropout)          (None, 7, 7, 64)          0         \n",
            "_________________________________________________________________\n",
            "flatten_1 (Flatten)          (None, 3136)              0         \n",
            "=================================================================\n",
            "Total params: 84,256\n",
            "Trainable params: 83,872\n",
            "Non-trainable params: 384\n",
            "_________________________________________________________________\n"
          ],
          "name": "stdout"
        }
      ]
    },
    {
      "cell_type": "code",
      "metadata": {
        "colab": {
          "base_uri": "https://localhost:8080/"
        },
        "id": "GQN2BH0k_A6u",
        "outputId": "e798a5b8-a30b-489b-8ed6-808b88e05ffa"
      },
      "source": [
        "x = model.output \n",
        "x.shape"
      ],
      "execution_count": 43,
      "outputs": [
        {
          "output_type": "execute_result",
          "data": {
            "text/plain": [
              "TensorShape([None, 3136])"
            ]
          },
          "metadata": {
            "tags": []
          },
          "execution_count": 43
        }
      ]
    },
    {
      "cell_type": "code",
      "metadata": {
        "id": "C9GZAYic_LHN"
      },
      "source": [
        "x = Dense(128, activation = 'relu', kernel_initializer = 'he_uniform')(x)\n",
        "prediction_layer = Dense(43, activation = 'softmax')(x)"
      ],
      "execution_count": 44,
      "outputs": []
    },
    {
      "cell_type": "code",
      "metadata": {
        "id": "hKjXugP5_Z-h"
      },
      "source": [
        "# Make a new model combining both feature extractor and x\n",
        "\n",
        "cnn_model = Model(inputs=model.input, outputs=prediction_layer)\n",
        "cnn_model.compile(optimizer='adam',loss = 'categorical_crossentropy', metrics = ['accuracy'])"
      ],
      "execution_count": 45,
      "outputs": []
    },
    {
      "cell_type": "code",
      "metadata": {
        "colab": {
          "base_uri": "https://localhost:8080/"
        },
        "id": "u7pkD0VrFVEl",
        "outputId": "13b7eda2-9162-4480-91dd-35d9bd2e2278"
      },
      "source": [
        "cnn_model.summary()"
      ],
      "execution_count": 46,
      "outputs": [
        {
          "output_type": "stream",
          "text": [
            "Model: \"model\"\n",
            "_________________________________________________________________\n",
            "Layer (type)                 Output Shape              Param #   \n",
            "=================================================================\n",
            "conv2d_4_input (InputLayer)  [(None, 30, 30, 3)]       0         \n",
            "_________________________________________________________________\n",
            "conv2d_4 (Conv2D)            (None, 30, 30, 32)        2432      \n",
            "_________________________________________________________________\n",
            "batch_normalization_4 (Batch (None, 30, 30, 32)        128       \n",
            "_________________________________________________________________\n",
            "conv2d_5 (Conv2D)            (None, 30, 30, 32)        25632     \n",
            "_________________________________________________________________\n",
            "batch_normalization_5 (Batch (None, 30, 30, 32)        128       \n",
            "_________________________________________________________________\n",
            "max_pooling2d_2 (MaxPooling2 (None, 15, 15, 32)        0         \n",
            "_________________________________________________________________\n",
            "dropout_3 (Dropout)          (None, 15, 15, 32)        0         \n",
            "_________________________________________________________________\n",
            "conv2d_6 (Conv2D)            (None, 15, 15, 64)        18496     \n",
            "_________________________________________________________________\n",
            "batch_normalization_6 (Batch (None, 15, 15, 64)        256       \n",
            "_________________________________________________________________\n",
            "conv2d_7 (Conv2D)            (None, 15, 15, 64)        36928     \n",
            "_________________________________________________________________\n",
            "batch_normalization_7 (Batch (None, 15, 15, 64)        256       \n",
            "_________________________________________________________________\n",
            "max_pooling2d_3 (MaxPooling2 (None, 7, 7, 64)          0         \n",
            "_________________________________________________________________\n",
            "dropout_4 (Dropout)          (None, 7, 7, 64)          0         \n",
            "_________________________________________________________________\n",
            "flatten_1 (Flatten)          (None, 3136)              0         \n",
            "_________________________________________________________________\n",
            "dense_2 (Dense)              (None, 128)               401536    \n",
            "_________________________________________________________________\n",
            "dense_3 (Dense)              (None, 43)                5547      \n",
            "=================================================================\n",
            "Total params: 491,339\n",
            "Trainable params: 490,955\n",
            "Non-trainable params: 384\n",
            "_________________________________________________________________\n"
          ],
          "name": "stdout"
        }
      ]
    },
    {
      "cell_type": "code",
      "metadata": {
        "colab": {
          "base_uri": "https://localhost:8080/"
        },
        "id": "ZTWY6Zk0_srg",
        "outputId": "33351c00-e4c6-46f1-ed01-27374b3d7cb9"
      },
      "source": [
        "epochs = 12\n",
        "batch_size = 64\n",
        "\n",
        "history = cnn_model.fit(X_train, y_train_cat, epochs=epochs, batch_size=batch_size, validation_data=(X_test, y_test_cat))"
      ],
      "execution_count": 47,
      "outputs": [
        {
          "output_type": "stream",
          "text": [
            "Epoch 1/12\n",
            "491/491 [==============================] - 7s 11ms/step - loss: 1.7438 - accuracy: 0.5588 - val_loss: 0.1780 - val_accuracy: 0.9384\n",
            "Epoch 2/12\n",
            "491/491 [==============================] - 5s 10ms/step - loss: 0.0999 - accuracy: 0.9698 - val_loss: 0.0519 - val_accuracy: 0.9860\n",
            "Epoch 3/12\n",
            "491/491 [==============================] - 5s 10ms/step - loss: 0.0437 - accuracy: 0.9859 - val_loss: 0.0735 - val_accuracy: 0.9762\n",
            "Epoch 4/12\n",
            "491/491 [==============================] - 5s 10ms/step - loss: 0.0290 - accuracy: 0.9911 - val_loss: 0.0432 - val_accuracy: 0.9881\n",
            "Epoch 5/12\n",
            "491/491 [==============================] - 5s 10ms/step - loss: 0.0313 - accuracy: 0.9895 - val_loss: 0.0357 - val_accuracy: 0.9907\n",
            "Epoch 6/12\n",
            "491/491 [==============================] - 5s 10ms/step - loss: 0.0228 - accuracy: 0.9928 - val_loss: 0.0341 - val_accuracy: 0.9918\n",
            "Epoch 7/12\n",
            "491/491 [==============================] - 5s 10ms/step - loss: 0.0209 - accuracy: 0.9940 - val_loss: 0.0611 - val_accuracy: 0.9839\n",
            "Epoch 8/12\n",
            "491/491 [==============================] - 5s 10ms/step - loss: 0.0363 - accuracy: 0.9890 - val_loss: 0.0323 - val_accuracy: 0.9939\n",
            "Epoch 9/12\n",
            "491/491 [==============================] - 5s 10ms/step - loss: 0.0147 - accuracy: 0.9953 - val_loss: 0.0648 - val_accuracy: 0.9844\n",
            "Epoch 10/12\n",
            "491/491 [==============================] - 5s 10ms/step - loss: 0.0189 - accuracy: 0.9944 - val_loss: 0.0430 - val_accuracy: 0.9903\n",
            "Epoch 11/12\n",
            "491/491 [==============================] - 5s 10ms/step - loss: 0.0231 - accuracy: 0.9936 - val_loss: 0.1109 - val_accuracy: 0.9717\n",
            "Epoch 12/12\n",
            "491/491 [==============================] - 5s 10ms/step - loss: 0.0271 - accuracy: 0.9930 - val_loss: 0.0243 - val_accuracy: 0.9943\n"
          ],
          "name": "stdout"
        }
      ]
    },
    {
      "cell_type": "code",
      "metadata": {
        "colab": {
          "base_uri": "https://localhost:8080/"
        },
        "id": "exb6abxt00b4",
        "outputId": "0818f1ee-5784-4687-b01d-1423d720637c"
      },
      "source": [
        "X_train.shape, y_train.shape, X_test.shape, y_test.shape"
      ],
      "execution_count": 48,
      "outputs": [
        {
          "output_type": "execute_result",
          "data": {
            "text/plain": [
              "((31367, 30, 30, 3), (31367,), (7842, 30, 30, 3), (7842,))"
            ]
          },
          "metadata": {
            "tags": []
          },
          "execution_count": 48
        }
      ]
    },
    {
      "cell_type": "code",
      "metadata": {
        "colab": {
          "base_uri": "https://localhost:8080/"
        },
        "id": "m2vOOyVh3RGO",
        "outputId": "2d66dabe-bd0b-437f-cdb8-8fdaa0d82d74"
      },
      "source": [
        "y_train_cat.shape, y_test_cat.shape"
      ],
      "execution_count": 49,
      "outputs": [
        {
          "output_type": "execute_result",
          "data": {
            "text/plain": [
              "((31367, 43), (7842, 43))"
            ]
          },
          "metadata": {
            "tags": []
          },
          "execution_count": 49
        }
      ]
    },
    {
      "cell_type": "code",
      "metadata": {
        "colab": {
          "base_uri": "https://localhost:8080/"
        },
        "id": "LBml_zC23Tqo",
        "outputId": "c266ccd3-fc9c-49b8-bf95-61496652fc15"
      },
      "source": [
        "test_data_new.shape, test_set_label.shape"
      ],
      "execution_count": 50,
      "outputs": [
        {
          "output_type": "execute_result",
          "data": {
            "text/plain": [
              "((12630, 30, 30, 3), (12630,))"
            ]
          },
          "metadata": {
            "tags": []
          },
          "execution_count": 50
        }
      ]
    },
    {
      "cell_type": "code",
      "metadata": {
        "id": "zKns_lv8A51P"
      },
      "source": [
        "# using features from CNN for RF\n",
        "\n",
        "X_for_RF = model.predict(X_train)"
      ],
      "execution_count": 51,
      "outputs": []
    },
    {
      "cell_type": "code",
      "metadata": {
        "colab": {
          "base_uri": "https://localhost:8080/"
        },
        "id": "Up70A8WxQkJU",
        "outputId": "744df49a-7a57-40de-fb1a-2732bd006fdc"
      },
      "source": [
        "X_for_RF.shape"
      ],
      "execution_count": 52,
      "outputs": [
        {
          "output_type": "execute_result",
          "data": {
            "text/plain": [
              "(31367, 3136)"
            ]
          },
          "metadata": {
            "tags": []
          },
          "execution_count": 52
        }
      ]
    },
    {
      "cell_type": "code",
      "metadata": {
        "colab": {
          "base_uri": "https://localhost:8080/"
        },
        "id": "oKnEdsZ5mxrd",
        "outputId": "c34d1b24-f40a-47b2-bf60-00769872e697"
      },
      "source": [
        "X_for_RF[0]"
      ],
      "execution_count": 53,
      "outputs": [
        {
          "output_type": "execute_result",
          "data": {
            "text/plain": [
              "array([-0.05691013, -0.14312626, -0.52214324, ..., -0.47306585,\n",
              "       -0.11080763, -0.18388867], dtype=float32)"
            ]
          },
          "metadata": {
            "tags": []
          },
          "execution_count": 53
        }
      ]
    },
    {
      "cell_type": "code",
      "metadata": {
        "id": "tHrioYhvA54S"
      },
      "source": [
        "from sklearn.ensemble import RandomForestClassifier\n",
        "RF_model = RandomForestClassifier(n_estimators = 50, random_state = 20)"
      ],
      "execution_count": 54,
      "outputs": []
    },
    {
      "cell_type": "code",
      "metadata": {
        "colab": {
          "base_uri": "https://localhost:8080/"
        },
        "id": "KcgIoDb1A57P",
        "outputId": "6771b3a8-9dd4-4692-eb26-4933af4fb763"
      },
      "source": [
        "# train the model on training data\n",
        "\n",
        "RF_model.fit(X_for_RF, y_train)"
      ],
      "execution_count": 55,
      "outputs": [
        {
          "output_type": "execute_result",
          "data": {
            "text/plain": [
              "RandomForestClassifier(bootstrap=True, ccp_alpha=0.0, class_weight=None,\n",
              "                       criterion='gini', max_depth=None, max_features='auto',\n",
              "                       max_leaf_nodes=None, max_samples=None,\n",
              "                       min_impurity_decrease=0.0, min_impurity_split=None,\n",
              "                       min_samples_leaf=1, min_samples_split=2,\n",
              "                       min_weight_fraction_leaf=0.0, n_estimators=50,\n",
              "                       n_jobs=None, oob_score=False, random_state=20, verbose=0,\n",
              "                       warm_start=False)"
            ]
          },
          "metadata": {
            "tags": []
          },
          "execution_count": 55
        }
      ]
    },
    {
      "cell_type": "code",
      "metadata": {
        "colab": {
          "base_uri": "https://localhost:8080/"
        },
        "id": "ELgZt1uio119",
        "outputId": "ffc02df4-0a5e-4855-a733-2be4af2aac63"
      },
      "source": [
        "X_train[0]"
      ],
      "execution_count": 56,
      "outputs": [
        {
          "output_type": "execute_result",
          "data": {
            "text/plain": [
              "array([[[ 84, 109,  73],\n",
              "        [ 61,  78,  48],\n",
              "        [ 58,  73,  47],\n",
              "        ...,\n",
              "        [169, 147,  88],\n",
              "        [134, 115,  65],\n",
              "        [151, 119,  80]],\n",
              "\n",
              "       [[ 73,  76,  54],\n",
              "        [ 73,  67,  49],\n",
              "        [ 75,  68,  46],\n",
              "        ...,\n",
              "        [122, 108,  57],\n",
              "        [117,  98,  60],\n",
              "        [137, 114,  79]],\n",
              "\n",
              "       [[ 94,  86,  60],\n",
              "        [ 80,  73,  53],\n",
              "        [ 76,  68,  49],\n",
              "        ...,\n",
              "        [136, 123,  60],\n",
              "        [130, 111,  48],\n",
              "        [119, 102,  48]],\n",
              "\n",
              "       ...,\n",
              "\n",
              "       [[253, 255, 223],\n",
              "        [236, 255, 221],\n",
              "        [227, 255, 206],\n",
              "        ...,\n",
              "        [ 85, 110,  72],\n",
              "        [118, 129,  98],\n",
              "        [214, 206, 171]],\n",
              "\n",
              "       [[254, 255, 220],\n",
              "        [234, 255, 222],\n",
              "        [225, 255, 207],\n",
              "        ...,\n",
              "        [ 74, 107,  73],\n",
              "        [ 79, 104,  76],\n",
              "        [195, 203, 165]],\n",
              "\n",
              "       [[236, 255, 204],\n",
              "        [225, 254, 206],\n",
              "        [223, 255, 203],\n",
              "        ...,\n",
              "        [ 68, 101,  79],\n",
              "        [ 73,  93,  74],\n",
              "        [133, 135,  90]]], dtype=uint8)"
            ]
          },
          "metadata": {
            "tags": []
          },
          "execution_count": 56
        }
      ]
    },
    {
      "cell_type": "code",
      "metadata": {
        "colab": {
          "base_uri": "https://localhost:8080/"
        },
        "id": "sr9x4jO_o9Wx",
        "outputId": "b71f872f-5e3c-4d33-d2af-23be78899a91"
      },
      "source": [
        "y_train[0]"
      ],
      "execution_count": 57,
      "outputs": [
        {
          "output_type": "execute_result",
          "data": {
            "text/plain": [
              "17"
            ]
          },
          "metadata": {
            "tags": []
          },
          "execution_count": 57
        }
      ]
    },
    {
      "cell_type": "code",
      "metadata": {
        "colab": {
          "base_uri": "https://localhost:8080/"
        },
        "id": "ztsY1SbIpBS_",
        "outputId": "753f561f-4eb9-47bb-89bb-4745dad6ea0a"
      },
      "source": [
        "X_for_RF[0]"
      ],
      "execution_count": 58,
      "outputs": [
        {
          "output_type": "execute_result",
          "data": {
            "text/plain": [
              "array([-0.05691013, -0.14312626, -0.52214324, ..., -0.47306585,\n",
              "       -0.11080763, -0.18388867], dtype=float32)"
            ]
          },
          "metadata": {
            "tags": []
          },
          "execution_count": 58
        }
      ]
    },
    {
      "cell_type": "code",
      "metadata": {
        "colab": {
          "base_uri": "https://localhost:8080/"
        },
        "id": "AzWixmxkpBl5",
        "outputId": "5d75efe2-6dd9-46e8-97c0-d802ec638e7e"
      },
      "source": [
        "test_data_new[0]"
      ],
      "execution_count": 59,
      "outputs": [
        {
          "output_type": "execute_result",
          "data": {
            "text/plain": [
              "array([[[116, 140, 175],\n",
              "        [116, 138, 171],\n",
              "        [119, 138, 173],\n",
              "        ...,\n",
              "        [102, 119, 150],\n",
              "        [101, 122, 149],\n",
              "        [ 93, 112, 139]],\n",
              "\n",
              "       [[116, 142, 177],\n",
              "        [116, 141, 175],\n",
              "        [117, 141, 174],\n",
              "        ...,\n",
              "        [120, 143, 178],\n",
              "        [122, 144, 176],\n",
              "        [122, 142, 174]],\n",
              "\n",
              "       [[118, 142, 174],\n",
              "        [116, 141, 175],\n",
              "        [114, 140, 172],\n",
              "        ...,\n",
              "        [121, 144, 181],\n",
              "        [122, 144, 180],\n",
              "        [119, 142, 178]],\n",
              "\n",
              "       ...,\n",
              "\n",
              "       [[117, 137, 168],\n",
              "        [115, 135, 165],\n",
              "        [116, 135, 164],\n",
              "        ...,\n",
              "        [116, 138, 170],\n",
              "        [116, 136, 168],\n",
              "        [118, 139, 171]],\n",
              "\n",
              "       [[116, 136, 166],\n",
              "        [115, 134, 167],\n",
              "        [115, 133, 165],\n",
              "        ...,\n",
              "        [114, 135, 168],\n",
              "        [116, 136, 166],\n",
              "        [115, 139, 167]],\n",
              "\n",
              "       [[112, 135, 166],\n",
              "        [111, 134, 165],\n",
              "        [119, 135, 166],\n",
              "        ...,\n",
              "        [115, 137, 166],\n",
              "        [117, 138, 167],\n",
              "        [114, 140, 170]]], dtype=uint8)"
            ]
          },
          "metadata": {
            "tags": []
          },
          "execution_count": 59
        }
      ]
    },
    {
      "cell_type": "code",
      "metadata": {
        "colab": {
          "base_uri": "https://localhost:8080/"
        },
        "id": "CQQDKKybpBpD",
        "outputId": "58a1d0d8-4a2d-47da-aca0-5a1fe55afd73"
      },
      "source": [
        "y_test[0]"
      ],
      "execution_count": 60,
      "outputs": [
        {
          "output_type": "execute_result",
          "data": {
            "text/plain": [
              "13"
            ]
          },
          "metadata": {
            "tags": []
          },
          "execution_count": 60
        }
      ]
    },
    {
      "cell_type": "code",
      "metadata": {
        "id": "vcePhbFNA5-0"
      },
      "source": [
        "# sending test data through CNN model\n",
        "X_test_feature = model.predict(test_data_new)\n",
        "\n",
        "# predicting using the trained RF model\n",
        "prediction_RF = RF_model.predict(X_test_feature)"
      ],
      "execution_count": 61,
      "outputs": []
    },
    {
      "cell_type": "code",
      "metadata": {
        "colab": {
          "base_uri": "https://localhost:8080/"
        },
        "id": "euLQowvnQ_Eh",
        "outputId": "27f42aed-6fd1-4358-e6fc-4c32b19ea452"
      },
      "source": [
        "X_test_feature.shape, prediction_RF.shape"
      ],
      "execution_count": 62,
      "outputs": [
        {
          "output_type": "execute_result",
          "data": {
            "text/plain": [
              "((12630, 3136), (12630,))"
            ]
          },
          "metadata": {
            "tags": []
          },
          "execution_count": 62
        }
      ]
    },
    {
      "cell_type": "code",
      "metadata": {
        "colab": {
          "base_uri": "https://localhost:8080/"
        },
        "id": "lW-4XKnMgW5R",
        "outputId": "95b22e12-04bf-4338-a3fe-3a7972851fb6"
      },
      "source": [
        "test_set_label"
      ],
      "execution_count": 63,
      "outputs": [
        {
          "output_type": "execute_result",
          "data": {
            "text/plain": [
              "array([16,  1, 38, ...,  6,  7, 10])"
            ]
          },
          "metadata": {
            "tags": []
          },
          "execution_count": 63
        }
      ]
    },
    {
      "cell_type": "code",
      "metadata": {
        "colab": {
          "base_uri": "https://localhost:8080/"
        },
        "id": "EJw6jeB1jcUY",
        "outputId": "a895c7ac-6e14-484b-e732-c13c8d5ea1a3"
      },
      "source": [
        "prediction_RF"
      ],
      "execution_count": 64,
      "outputs": [
        {
          "output_type": "execute_result",
          "data": {
            "text/plain": [
              "array([16,  1, 38, ...,  3,  7, 10])"
            ]
          },
          "metadata": {
            "tags": []
          },
          "execution_count": 64
        }
      ]
    },
    {
      "cell_type": "code",
      "metadata": {
        "colab": {
          "base_uri": "https://localhost:8080/"
        },
        "id": "dTvyYjptA6DT",
        "outputId": "1db49216-c3df-403a-96f6-df6470be4805"
      },
      "source": [
        "print('Accuracy: ', round(accuracy_score(test_set_label, prediction_RF)*100, 2))"
      ],
      "execution_count": 65,
      "outputs": [
        {
          "output_type": "stream",
          "text": [
            "Accuracy:  95.64\n"
          ],
          "name": "stdout"
        }
      ]
    }
  ]
}